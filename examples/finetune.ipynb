{
 "cells": [
  {
   "cell_type": "markdown",
   "metadata": {},
   "source": [
    "# Face detection and recognition training pipeline\n",
    "\n",
    "The following example illustrates how to fine-tune an InceptionResnetV1 model on your own dataset. This will mostly follow standard pytorch training patterns."
   ]
  },
  {
   "cell_type": "code",
   "metadata": {
    "ExecuteTime": {
     "end_time": "2024-06-26T13:36:48.430736Z",
     "start_time": "2024-06-26T13:36:47.177280Z"
    }
   },
   "source": [
    "from pathlib import Path\n",
    "from facenet_pytorch import MTCNN, InceptionResnetV1, fixed_image_standardization, training\n",
    "import torch\n",
    "from torch.utils.data import DataLoader, SubsetRandomSampler\n",
    "from torch import optim\n",
    "from torch.optim.lr_scheduler import MultiStepLR\n",
    "from torch.utils.tensorboard import SummaryWriter\n",
    "from torchvision import datasets, transforms\n",
    "import numpy as np\n",
    "import os"
   ],
   "outputs": [],
   "execution_count": 1
  },
  {
   "cell_type": "markdown",
   "metadata": {},
   "source": [
    "#### Define run parameters\n",
    "\n",
    "The dataset should follow the VGGFace2/ImageNet-style directory layout. Modify `data_dir` to the location of the dataset on wish to finetune on."
   ]
  },
  {
   "cell_type": "code",
   "metadata": {
    "ExecuteTime": {
     "end_time": "2024-06-26T13:36:48.435108Z",
     "start_time": "2024-06-26T13:36:48.432058Z"
    }
   },
   "source": [
    "root_dir = Path(Path(__file__).parent if \"__file__\" in globals() else \"\").absolute().parent\n",
    "data_dir = root_dir / \"tests\" / \"data\" / \"test_images\"\n",
    "\n",
    "batch_size = 32\n",
    "epochs = 8\n",
    "workers = 0 if os.name == \"nt\" else 8"
   ],
   "outputs": [],
   "execution_count": 2
  },
  {
   "cell_type": "markdown",
   "metadata": {},
   "source": "#### Determine if a nvidia GPU is available"
  },
  {
   "cell_type": "code",
   "metadata": {
    "ExecuteTime": {
     "end_time": "2024-06-26T13:36:48.475713Z",
     "start_time": "2024-06-26T13:36:48.436118Z"
    }
   },
   "source": [
    "device = torch.device(\"cuda:0\" if torch.cuda.is_available() else \"cpu\")\n",
    "print(f\"Running on device: {device}\")"
   ],
   "outputs": [
    {
     "name": "stdout",
     "output_type": "stream",
     "text": [
      "Running on device: cuda:0\n"
     ]
    }
   ],
   "execution_count": 3
  },
  {
   "cell_type": "markdown",
   "metadata": {},
   "source": [
    "#### Define MTCNN module\n",
    "\n",
    "See `help(MTCNN)` for more details."
   ]
  },
  {
   "cell_type": "code",
   "metadata": {
    "ExecuteTime": {
     "end_time": "2024-06-26T13:36:48.542246Z",
     "start_time": "2024-06-26T13:36:48.476687Z"
    }
   },
   "source": [
    "mtcnn = MTCNN(\n",
    "    image_size=160, margin=0, min_face_size=20,\n",
    "    thresholds=[0.6, 0.7, 0.7], factor=0.709, post_process=True,\n",
    "    device=device\n",
    ")"
   ],
   "outputs": [],
   "execution_count": 4
  },
  {
   "cell_type": "markdown",
   "metadata": {},
   "source": [
    "#### Perfom MTCNN facial detection\n",
    "\n",
    "Iterate through the DataLoader object and obtain cropped faces."
   ]
  },
  {
   "cell_type": "code",
   "metadata": {
    "scrolled": true,
    "ExecuteTime": {
     "end_time": "2024-06-26T13:36:49.190250Z",
     "start_time": "2024-06-26T13:36:48.543304Z"
    }
   },
   "source": [
    "dataset = datasets.ImageFolder(data_dir, transform=transforms.Resize((512, 512)))\n",
    "dataset.samples = [\n",
    "    (p, p.replace(str(data_dir), str(data_dir.parent / (data_dir.name + \"_aligned\"))))\n",
    "        for p, _ in dataset.samples\n",
    "]\n",
    "\n",
    "loader = DataLoader(\n",
    "    dataset,\n",
    "    num_workers=workers,\n",
    "    batch_size=batch_size,\n",
    "    collate_fn=training.collate_pil\n",
    ")\n",
    "\n",
    "for i, (input_file, output_file) in enumerate(loader):\n",
    "    mtcnn(input_file, save_path=output_file)\n",
    "    print(f\"\\rBatch {i+1} of {len(loader)}\", end=\"\")\n",
    "    \n",
    "# Remove mtcnn to reduce GPU memory usage\n",
    "del mtcnn"
   ],
   "outputs": [
    {
     "name": "stdout",
     "output_type": "stream",
     "text": [
      "Batch 1 of 1"
     ]
    }
   ],
   "execution_count": 5
  },
  {
   "cell_type": "markdown",
   "metadata": {},
   "source": [
    "#### Define Inception Resnet V1 module\n",
    "\n",
    "See `help(InceptionResnetV1)` for more details."
   ]
  },
  {
   "cell_type": "code",
   "metadata": {
    "ExecuteTime": {
     "end_time": "2024-06-26T13:36:49.419045Z",
     "start_time": "2024-06-26T13:36:49.190986Z"
    }
   },
   "source": [
    "resnet = InceptionResnetV1(\n",
    "    classify=True,\n",
    "    pretrained=\"vggface2\",\n",
    "    num_classes=len(dataset.class_to_idx)\n",
    ").to(device)"
   ],
   "outputs": [],
   "execution_count": 6
  },
  {
   "cell_type": "markdown",
   "metadata": {},
   "source": [
    "#### Define optimizer, scheduler, dataset, and dataloader"
   ]
  },
  {
   "cell_type": "code",
   "metadata": {
    "ExecuteTime": {
     "end_time": "2024-06-26T13:36:49.424395Z",
     "start_time": "2024-06-26T13:36:49.420108Z"
    }
   },
   "source": [
    "optimizer = optim.Adam(resnet.parameters(), lr=0.001)\n",
    "scheduler = MultiStepLR(optimizer, [5, 10])\n",
    "\n",
    "trans = transforms.Compose([\n",
    "    np.float32,\n",
    "    transforms.ToTensor(),\n",
    "    fixed_image_standardization\n",
    "])\n",
    "dataset = datasets.ImageFolder(data_dir.parent / (data_dir.name + \"_aligned\"), transform=trans)\n",
    "img_inds = np.arange(len(dataset))\n",
    "np.random.shuffle(img_inds)\n",
    "train_inds = img_inds[:int(0.8 * len(img_inds))]\n",
    "val_inds = img_inds[int(0.8 * len(img_inds)):]\n",
    "\n",
    "train_loader = DataLoader(\n",
    "    dataset,\n",
    "    num_workers=workers,\n",
    "    batch_size=batch_size,\n",
    "    sampler=SubsetRandomSampler(train_inds)\n",
    ")\n",
    "val_loader = DataLoader(\n",
    "    dataset,\n",
    "    num_workers=workers,\n",
    "    batch_size=batch_size,\n",
    "    sampler=SubsetRandomSampler(val_inds)\n",
    ")"
   ],
   "outputs": [],
   "execution_count": 7
  },
  {
   "cell_type": "markdown",
   "metadata": {},
   "source": [
    "#### Define loss and evaluation functions"
   ]
  },
  {
   "cell_type": "code",
   "metadata": {
    "ExecuteTime": {
     "end_time": "2024-06-26T13:36:49.434817Z",
     "start_time": "2024-06-26T13:36:49.425067Z"
    }
   },
   "source": [
    "loss_fn = torch.nn.CrossEntropyLoss()\n",
    "metrics = {\n",
    "    \"fps\": training.BatchTimer(),\n",
    "    \"acc\": training.accuracy\n",
    "}"
   ],
   "outputs": [],
   "execution_count": 8
  },
  {
   "cell_type": "markdown",
   "metadata": {},
   "source": [
    "#### Train model"
   ]
  },
  {
   "cell_type": "code",
   "metadata": {
    "ExecuteTime": {
     "end_time": "2024-06-26T13:36:52.659888Z",
     "start_time": "2024-06-26T13:36:49.435520Z"
    }
   },
   "source": [
    "writer = SummaryWriter()\n",
    "writer.iteration, writer.interval = 0, 10\n",
    "\n",
    "print(\"\\n\\nInitial\")\n",
    "print(\"-\" * 10)\n",
    "resnet.eval()\n",
    "training.pass_epoch(\n",
    "    resnet, loss_fn, val_loader,\n",
    "    batch_metrics=metrics, show_running=True, device=device,\n",
    "    writer=writer\n",
    ")\n",
    "\n",
    "for epoch in range(epochs):\n",
    "    print(f\"\\nEpoch {epoch + 1}/{epochs}\")\n",
    "    print(\"-\" * 10)\n",
    "\n",
    "    resnet.train()\n",
    "    training.pass_epoch(\n",
    "        resnet, loss_fn, train_loader, optimizer, scheduler,\n",
    "        batch_metrics=metrics, show_running=True, device=device,\n",
    "        writer=writer\n",
    "    )\n",
    "\n",
    "    resnet.eval()\n",
    "    training.pass_epoch(\n",
    "        resnet, loss_fn, val_loader,\n",
    "        batch_metrics=metrics, show_running=True, device=device,\n",
    "        writer=writer\n",
    "    )\n",
    "\n",
    "writer.close()"
   ],
   "outputs": [
    {
     "name": "stdout",
     "output_type": "stream",
     "text": [
      "\n",
      "\n",
      "Initial\n",
      "----------\n",
      "Valid |     1/1    | loss:    1.1656 | fps:    8.5033 | acc:    0.5000   \n",
      "\n",
      "Epoch 1/8\n",
      "----------\n",
      "Train |     1/1    | loss:    1.4932 | fps:   23.3235 | acc:    0.2500   \n",
      "Valid |     1/1    | loss:    0.8389 | fps:   13.2477 | acc:    0.5000   \n",
      "\n",
      "Epoch 2/8\n",
      "----------\n",
      "Train |     1/1    | loss:    0.1318 | fps:   44.1008 | acc:    1.0000   \n",
      "Valid |     1/1    | loss:    0.8094 | fps:   11.5341 | acc:    0.5000   \n",
      "\n",
      "Epoch 3/8\n",
      "----------\n",
      "Train |     1/1    | loss:    0.0131 | fps:   47.5829 | acc:    1.0000   \n",
      "Valid |     1/1    | loss:    1.0491 | fps:   11.4941 | acc:    0.5000   \n",
      "\n",
      "Epoch 4/8\n",
      "----------\n",
      "Train |     1/1    | loss:    0.0045 | fps:   43.7946 | acc:    1.0000   \n",
      "Valid |     1/1    | loss:    1.5456 | fps:   10.8716 | acc:    0.5000   \n",
      "\n",
      "Epoch 5/8\n",
      "----------\n",
      "Train |     1/1    | loss:    0.0023 | fps:   43.7726 | acc:    1.0000   \n",
      "Valid |     1/1    | loss:    2.1608 | fps:   10.1123 | acc:    0.5000   \n",
      "\n",
      "Epoch 6/8\n",
      "----------\n",
      "Train |     1/1    | loss:    0.0025 | fps:   43.3672 | acc:    1.0000   \n",
      "Valid |     1/1    | loss:    0.0950 | fps:   11.4269 | acc:    1.0000   \n",
      "\n",
      "Epoch 7/8\n",
      "----------\n",
      "Train |     1/1    | loss:    0.0017 | fps:   45.7846 | acc:    1.0000   \n",
      "Valid |     1/1    | loss:    0.0052 | fps:   11.9142 | acc:    1.0000   \n",
      "\n",
      "Epoch 8/8\n",
      "----------\n",
      "Train |     1/1    | loss:    0.0018 | fps:   49.0223 | acc:    1.0000   \n",
      "Valid |     1/1    | loss:    0.0014 | fps:   11.8008 | acc:    1.0000   \n"
     ]
    }
   ],
   "execution_count": 9
  }
 ],
 "metadata": {
  "kernelspec": {
   "display_name": "Python 3",
   "language": "python",
   "name": "python3"
  },
  "language_info": {
   "codemirror_mode": {
    "name": "ipython",
    "version": 3
   },
   "file_extension": ".py",
   "mimetype": "text/x-python",
   "name": "python",
   "nbconvert_exporter": "python",
   "pygments_lexer": "ipython3",
   "version": "3.7.3"
  }
 },
 "nbformat": 4,
 "nbformat_minor": 2
}
